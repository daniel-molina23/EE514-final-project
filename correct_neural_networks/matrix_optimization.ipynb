{
 "cells": [
  {
   "cell_type": "markdown",
   "metadata": {},
   "source": [
    "## Making the trianable ansatz"
   ]
  },
  {
   "cell_type": "code",
   "execution_count": 9,
   "metadata": {},
   "outputs": [],
   "source": [
    "import numpy as np\n",
    "\n",
    "I = np.eye(2)\n",
    "n_qubits = 6\n",
    "size_of_vec = 2**n_qubits\n",
    "num_layers = 5\n",
    "extraStates=True\n",
    "\n",
    "from utils import DFS\n",
    "inputStates, expectedStates = DFS().getInitialTargetStates(extraStates=extraStates)\n",
    "modifiedInputStates, modifiedExpectedStates = DFS().getModifiedInitialTargetStates(extraStates=extraStates)"
   ]
  },
  {
   "cell_type": "code",
   "execution_count": 10,
   "metadata": {},
   "outputs": [
    {
     "name": "stdout",
     "output_type": "stream",
     "text": [
      "12 12\n",
      "12 12\n"
     ]
    }
   ],
   "source": [
    "print(len(inputStates), len(expectedStates))\n",
    "print(len(modifiedInputStates), len(modifiedExpectedStates))"
   ]
  },
  {
   "cell_type": "code",
   "execution_count": 11,
   "metadata": {},
   "outputs": [
    {
     "name": "stdout",
     "output_type": "stream",
     "text": [
      "ensuring NON-MODIFIED states are normalized (aka <s|s> ~ 1)\n",
      "All states are normalized\n",
      "All 12 states are orthogonal with each other\n",
      "-----------------------\n",
      "ensuring MODIFIED states are normalized (aka <s|s> ~ 1)\n",
      "All states are normalized\n",
      "All 12 states are orthogonal with each other\n"
     ]
    }
   ],
   "source": [
    "def withinBounds(num):\n",
    "    return num <= 1+1e-7 and num >= 1-1e-7\n",
    "print('ensuring NON-MODIFIED states are normalized (aka <s|s> ~ 1)')\n",
    "allStatesNormalized = True\n",
    "for s in inputStates:\n",
    "    dot = np.dot(s,s)\n",
    "    if not withinBounds(dot):\n",
    "        allStatesNormalized = False\n",
    "print(\"All states are normalized\" if allStatesNormalized else \"All states are - NOT - normalized\")\n",
    "\n",
    "total = 0\n",
    "for i in range(len(inputStates)):\n",
    "    for j in range(len(inputStates)):\n",
    "        if i != j:\n",
    "            temp = np.dot(inputStates[i],inputStates[j])\n",
    "            # print(f'<state{i+1}|state{j+1}> = {temp}')\n",
    "            total += temp\n",
    "\n",
    "orthoStatement = f'All {len(inputStates)} states are orthogonal with each other' if total <= 1e-14 else f'All {len(inputStates)} states are - NOT - orthogonal with each other'\n",
    "print(orthoStatement)\n",
    "\n",
    "\n",
    "print('-----------------------')\n",
    "\n",
    "print('ensuring MODIFIED states are normalized (aka <s|s> ~ 1)')\n",
    "allStatesNormalized = True\n",
    "for s in inputStates:\n",
    "    dot = np.dot(s,s)\n",
    "    if not withinBounds(dot):\n",
    "        allStatesNormalized = False\n",
    "print(\"All states are normalized\" if allStatesNormalized else \"All states are - NOT - normalized\")\n",
    "\n",
    "total = 0\n",
    "for i in range(len(modifiedInputStates)):\n",
    "    for j in range(len(modifiedInputStates)):\n",
    "        if i != j:\n",
    "            temp = np.dot(modifiedInputStates[i],modifiedInputStates[j])\n",
    "            # print(f'<state{i+1}|state{j+1}> = {temp}')\n",
    "            total += temp\n",
    "\n",
    "orthoStatement = f'All {len(inputStates)} states are orthogonal with each other' if total <= 1e-14 else f'All {len(inputStates)} states are - NOT - orthogonal with each other'\n",
    "print(orthoStatement)"
   ]
  },
  {
   "cell_type": "code",
   "execution_count": 29,
   "metadata": {},
   "outputs": [],
   "source": [
    "def getLossFunctionOf4States(y_true, y_pred):\n",
    "    from utils import MatrixUtils\n",
    "    matrixUtils = MatrixUtils()\n",
    "    loss = 0\n",
    "    for i in range(len(y_true)):\n",
    "        fidelity = matrixUtils.fidelity_statevector(y_true[i], y_pred[i])\n",
    "        loss += fidelity\n",
    "    return np.sqrt(1 - (1/4)*abs(loss))"
   ]
  },
  {
   "cell_type": "code",
   "execution_count": 25,
   "metadata": {},
   "outputs": [],
   "source": [
    "def get_optimal_half_matrix(num_layers, addHalf=False, modified=False, pi_range=False, extraStates=False, batchOf4=None):\n",
    "    import numpy as np\n",
    "    from scipy.optimize import minimize\n",
    "    from utils import MatrixUtils\n",
    "    from utils import DFS\n",
    "    \n",
    "    if batchOf4 != None:\n",
    "        extraStates = False\n",
    "\n",
    "    originalInputStates, originalExpectedStates = DFS().getInitialTargetStates(extraStates=extraStates)\n",
    "    modifiedInputStates, modifiedExpectedStates = DFS().getModifiedInitialTargetStates(extraStates=extraStates)\n",
    "\n",
    "    if batchOf4 == 1:\n",
    "        originalInputStates, originalExpectedStates = originalInputStates[:4], originalExpectedStates[:4]\n",
    "        modifiedInputStates, modifiedExpectedStates = modifiedInputStates[:4], modifiedExpectedStates[:4]\n",
    "    elif batchOf4 == 2:\n",
    "        originalInputStates, originalExpectedStates = originalInputStates[4:], originalExpectedStates[4:]\n",
    "        modifiedInputStates, modifiedExpectedStates = modifiedInputStates[4:], modifiedExpectedStates[4:]\n",
    "    \n",
    "    inputStates, expectedStates = (modifiedInputStates, modifiedExpectedStates) if modified else (originalInputStates, originalExpectedStates)\n",
    "    \n",
    "    matrixUtils = MatrixUtils(pi_range=pi_range, extended_states=extraStates)\n",
    "\n",
    "    loss_function = matrixUtils.f_cnot_loss if batchOf4==None else getLossFunctionOf4States\n",
    "\n",
    "    # Define the correct operations you want the matrix to perform on basis vectors\n",
    "    def target_operations(parameters, inputStates, target_result):\n",
    "        # Reshape the parameters into the matrix form\n",
    "        normalParams = parameters[:num_layers*5]\n",
    "        halfParams = parameters[num_layers*5:] if addHalf else None\n",
    "\n",
    "        parameters = np.reshape(normalParams, (num_layers, 5))\n",
    "        matrix = matrixUtils.get_total_matrix(size_of_vec=2**6, weights=parameters, halfWeights=halfParams)\n",
    "\n",
    "        # Perform matrix multiplication with basis vectors\n",
    "        results = []\n",
    "        for i in range(len(inputStates)):\n",
    "            results.append(np.matmul(matrix, inputStates[i]))\n",
    "\n",
    "        # Calculate the loss as the difference between the obtained result and the target result\n",
    "        # loss = square_loss(target_result, results)\n",
    "        loss = loss_function(target_result, results)\n",
    "        return loss\n",
    "\n",
    "    # Generate random basis vectors and target result\n",
    "    basis_vectors = np.array(modifiedInputStates) if modified else np.array(inputStates)\n",
    "    target_result = np.array(modifiedExpectedStates) if modified else np.array(expectedStates)\n",
    "\n",
    "    # Flatten the matrix parameters for optimization\n",
    "    initial_parameters = np.ndarray.flatten(matrixUtils.get_random_weights(num_layers))\n",
    "\n",
    "    initial_parameters = np.concatenate((initial_parameters, matrixUtils.get_random_half_layer_weights())) if addHalf else initial_parameters\n",
    "\n",
    "    scale = np.pi if pi_range else 1\n",
    "    bounds = [(-1*scale, 1*scale)] * len(initial_parameters)\n",
    "\n",
    "    # Use scipy's minimize function to optimize the parameters\n",
    "    result = minimize(target_operations, initial_parameters, args=(basis_vectors,target_result), method='L-BFGS-B', bounds=bounds)\n",
    "\n",
    "    firstHalf, secondHalf = result.x[:num_layers*5], result.x[num_layers*5:] if addHalf else None\n",
    "    # Reshape the optimized parameters back into the matrix form\n",
    "    optimized_matrix = matrixUtils.get_total_matrix(size_of_vec=2**6, weights=firstHalf.reshape((num_layers, 5)), halfWeights=secondHalf)\n",
    "\n",
    "    total_layers = num_layers + 0.5 if addHalf else num_layers\n",
    "\n",
    "    # predStates = [np.matmul(optimized_matrix, mat) for mat in inputStates]\n",
    "    predStates = matrixUtils.get_predictions(basis_vectors, weights=firstHalf.reshape((num_layers, 5)), halfWeights=secondHalf)\n",
    "    fcnot_loss = loss_function(expectedStates, predStates)\n",
    "    # print(f\"f_cnot_loss for {total_layers} layers = {fcnot_loss}\")\n",
    "    # print(f\"square_loss for {total_layers} layers = {matrixUtils.square_loss(expectedStates, predStates)}\")\n",
    "    return optimized_matrix, result.x, fcnot_loss"
   ]
  },
  {
   "cell_type": "code",
   "execution_count": 13,
   "metadata": {},
   "outputs": [
    {
     "name": "stdout",
     "output_type": "stream",
     "text": [
      "Trained model (NON-MODIFIED) with extra states for params [-1,1]: layers=13, fcnot_loss=0.518468423781077\n",
      "Trained model (MODIFIED) with extra states for params [-1,1]: layers=13, fcnot_loss=0.5813965786336346\n",
      "Trained model (NON-MODIFIED) with extra states for params [-pi,pi]: layers=13, fcnot_loss=0.5842887553791757\n",
      "Trained model (MODIFIED) with extra states for params [-pi,pi]: layers=13, fcnot_loss=0.42624192671513017\n"
     ]
    }
   ],
   "source": [
    "l = 13\n",
    "m, p, f_loss = get_optimal_half_matrix(num_layers=l, modified=False, extraStates=True)\n",
    "print(f\"Trained model (NON-MODIFIED) with extra states for params [-1,1]: layers={l}, fcnot_loss={f_loss}\")\n",
    "m, p, f_loss = get_optimal_half_matrix(num_layers=l, modified=True, extraStates=True)\n",
    "print(f\"Trained model (MODIFIED) with extra states for params [-1,1]: layers={l}, fcnot_loss={f_loss}\")\n",
    "m, p, f_loss = get_optimal_half_matrix(num_layers=l, modified=False, pi_range=True, extraStates=True)\n",
    "print(f\"Trained model (NON-MODIFIED) with extra states for params [-pi,pi]: layers={l}, fcnot_loss={f_loss}\")\n",
    "m, p, f_loss = get_optimal_half_matrix(num_layers=l, modified=True, pi_range=True, extraStates=True)\n",
    "print(f\"Trained model (MODIFIED) with extra states for params [-pi,pi]: layers={l}, fcnot_loss={f_loss}\")"
   ]
  },
  {
   "cell_type": "code",
   "execution_count": 14,
   "metadata": {},
   "outputs": [
    {
     "name": "stdout",
     "output_type": "stream",
     "text": [
      "Trained model (NON-MODIFIED) with normal states for params [-1,1]: layers=13, fcnot_loss=0.27665417339027903\n",
      "Trained model (MODIFIED) with normal states for params [-1,1]: layers=13, fcnot_loss=0.3056212416029626\n",
      "Trained model (NON-MODIFIED) with normal states for params [-pi,pi]: layers=13, fcnot_loss=0.47292994155429047\n",
      "Trained model (MODIFIED) with normal states for params [-pi,pi]: layers=13, fcnot_loss=0.2950255204555837\n"
     ]
    }
   ],
   "source": [
    "l = 13\n",
    "m, p, f_loss = get_optimal_half_matrix(num_layers=l, modified=False, extraStates=False)\n",
    "print(f\"Trained model (NON-MODIFIED) with normal states for params [-1,1]: layers={l}, fcnot_loss={f_loss}\")\n",
    "m, p, f_loss = get_optimal_half_matrix(num_layers=l, modified=True,extraStates=False)\n",
    "print(f\"Trained model (MODIFIED) with normal states for params [-1,1]: layers={l}, fcnot_loss={f_loss}\")\n",
    "m, p, f_loss = get_optimal_half_matrix(num_layers=l, modified=False, pi_range=True, extraStates=False)\n",
    "print(f\"Trained model (NON-MODIFIED) with normal states for params [-pi,pi]: layers={l}, fcnot_loss={f_loss}\")\n",
    "m, p, f_loss = get_optimal_half_matrix(num_layers=l, modified=True, pi_range=True, extraStates=False)\n",
    "print(f\"Trained model (MODIFIED) with normal states for params [-pi,pi]: layers={l}, fcnot_loss={f_loss}\")"
   ]
  },
  {
   "cell_type": "code",
   "execution_count": 26,
   "metadata": {},
   "outputs": [
    {
     "name": "stdout",
     "output_type": "stream",
     "text": [
      "Trained model for first 4 states with params [-1,1]: layers=13, fcnot_loss=0.11289527726167026\n",
      "Trained model for first 4 states with params [-pi,pi]: layers=13, fcnot_loss=0.13727806092228126\n",
      "Trained model for second 4 states with params [-1,1]: layers=13, fcnot_loss=0.14017060530001393\n",
      "Trained model for second 4 states with params [-pi,pi]: layers=13, fcnot_loss=0.13232137854327394\n"
     ]
    }
   ],
   "source": [
    "l = 13\n",
    "m, p, f_loss = get_optimal_half_matrix(num_layers=l, pi_range=False, batchOf4=1)\n",
    "print(f\"Trained model for first 4 states with params [-1,1]: layers={l}, fcnot_loss={f_loss}\")\n",
    "m, p, f_loss = get_optimal_half_matrix(num_layers=l, pi_range=True, batchOf4=1)\n",
    "print(f\"Trained model for first 4 states with params [-pi,pi]: layers={l}, fcnot_loss={f_loss}\")\n",
    "m, p, f_loss = get_optimal_half_matrix(num_layers=l, pi_range=False, batchOf4=2)\n",
    "print(f\"Trained model for second 4 states with params [-1,1]: layers={l}, fcnot_loss={f_loss}\")\n",
    "m, p, f_loss = get_optimal_half_matrix(num_layers=l, pi_range=True, batchOf4=2)\n",
    "print(f\"Trained model for second 4 states with params [-pi,pi]: layers={l}, fcnot_loss={f_loss}\")"
   ]
  },
  {
   "cell_type": "code",
   "execution_count": 44,
   "metadata": {},
   "outputs": [
    {
     "name": "stdout",
     "output_type": "stream",
     "text": [
      "Trained model for modified first 4 states with params [-1,1]: layers=13, fcnot_loss=0.22975482460624957\n",
      "Trained model for modified first 4 states with params [-pi,pi]: layers=13, fcnot_loss=0.19287227519506245\n",
      "Trained model for modified second 4 states with params [-1,1]: layers=13, fcnot_loss=0.28040396252586397\n",
      "Trained model for modified second 4 states with params [-pi,pi]: layers=13, fcnot_loss=0.18874626539730371\n"
     ]
    }
   ],
   "source": [
    "m, p, f_loss = get_optimal_half_matrix(num_layers=l, pi_range=False, batchOf4=1, modified=True)\n",
    "print(f\"Trained model for modified first 4 states with params [-1,1]: layers={l}, fcnot_loss={f_loss}\")\n",
    "m, p, f_loss = get_optimal_half_matrix(num_layers=l, pi_range=True, batchOf4=1, modified=True)\n",
    "print(f\"Trained model for modified first 4 states with params [-pi,pi]: layers={l}, fcnot_loss={f_loss}\")\n",
    "m, p, f_loss = get_optimal_half_matrix(num_layers=l, pi_range=False, batchOf4=2, modified=True)\n",
    "print(f\"Trained model for modified second 4 states with params [-1,1]: layers={l}, fcnot_loss={f_loss}\")\n",
    "m, p, f_loss = get_optimal_half_matrix(num_layers=l, pi_range=True, batchOf4=2, modified=True)\n",
    "print(f\"Trained model for modified second 4 states with params [-pi,pi]: layers={l}, fcnot_loss={f_loss}\")"
   ]
  },
  {
   "cell_type": "code",
   "execution_count": 46,
   "metadata": {},
   "outputs": [
    {
     "name": "stdout",
     "output_type": "stream",
     "text": [
      "Trained model (NON-MODIFIED) with extra states for params [-1,1]: layers=7, fcnot_loss=0.8825795130608739\n",
      "Trained model (MODIFIED) with extra states for params [-1,1]: layers=7, fcnot_loss=0.6700158300423998\n",
      "Trained model (NON-MODIFIED) with extra states for params [-pi,pi]: layers=7, fcnot_loss=0.7597794087369221\n",
      "Trained model (MODIFIED) with extra states for params [-pi,pi]: layers=7, fcnot_loss=0.9387374038187708\n",
      "Trained model (NON-MODIFIED) with normal states for params [-1,1]: layers=7, fcnot_loss=0.5727536542728501\n",
      "Trained model (MODIFIED) with normal states for params [-1,1]: layers=7, fcnot_loss=0.6570580915016189\n",
      "Trained model (NON-MODIFIED) with normal states for params [-pi,pi]: layers=7, fcnot_loss=0.5804529364077136\n",
      "Trained model (MODIFIED) with normal states for params [-pi,pi]: layers=7, fcnot_loss=1.0000000007696217\n",
      "Trained model for first 4 states with params [-1,1]: layers=7, fcnot_loss=0.23543665341332728\n",
      "Trained model for first 4 states with params [-pi,pi]: layers=7, fcnot_loss=0.19769972079465944\n",
      "Trained model for second 4 states with params [-1,1]: layers=7, fcnot_loss=0.37588902010261915\n",
      "Trained model for second 4 states with params [-pi,pi]: layers=7, fcnot_loss=0.323694714172568\n",
      "Trained model for modified first 4 states with params [-1,1]: layers=7, fcnot_loss=0.37956673174485744\n",
      "Trained model for modified first 4 states with params [-pi,pi]: layers=7, fcnot_loss=0.3963069579208583\n",
      "Trained model for modified second 4 states with params [-1,1]: layers=7, fcnot_loss=0.45013494357193\n",
      "Trained model for modified second 4 states with params [-pi,pi]: layers=7, fcnot_loss=0.4895734198666129\n"
     ]
    }
   ],
   "source": [
    "l = 7\n",
    "m, p, f_loss = get_optimal_half_matrix(num_layers=l, modified=False, extraStates=True)\n",
    "print(f\"Trained model (NON-MODIFIED) with extra states for params [-1,1]: layers={l}, fcnot_loss={f_loss}\")\n",
    "m, p, f_loss = get_optimal_half_matrix(num_layers=l, modified=True, extraStates=True)\n",
    "print(f\"Trained model (MODIFIED) with extra states for params [-1,1]: layers={l}, fcnot_loss={f_loss}\")\n",
    "m, p, f_loss = get_optimal_half_matrix(num_layers=l, modified=False, pi_range=True, extraStates=True)\n",
    "print(f\"Trained model (NON-MODIFIED) with extra states for params [-pi,pi]: layers={l}, fcnot_loss={f_loss}\")\n",
    "m, p, f_loss = get_optimal_half_matrix(num_layers=l, modified=True, pi_range=True, extraStates=True)\n",
    "print(f\"Trained model (MODIFIED) with extra states for params [-pi,pi]: layers={l}, fcnot_loss={f_loss}\")\n",
    "\n",
    "m, p, f_loss = get_optimal_half_matrix(num_layers=l, modified=False, extraStates=False)\n",
    "print(f\"Trained model (NON-MODIFIED) with normal states for params [-1,1]: layers={l}, fcnot_loss={f_loss}\")\n",
    "m, p, f_loss = get_optimal_half_matrix(num_layers=l, modified=True,extraStates=False)\n",
    "print(f\"Trained model (MODIFIED) with normal states for params [-1,1]: layers={l}, fcnot_loss={f_loss}\")\n",
    "m, p, f_loss = get_optimal_half_matrix(num_layers=l, modified=False, pi_range=True, extraStates=False)\n",
    "print(f\"Trained model (NON-MODIFIED) with normal states for params [-pi,pi]: layers={l}, fcnot_loss={f_loss}\")\n",
    "m, p, f_loss = get_optimal_half_matrix(num_layers=l, modified=True, pi_range=True, extraStates=False)\n",
    "print(f\"Trained model (MODIFIED) with normal states for params [-pi,pi]: layers={l}, fcnot_loss={f_loss}\")\n",
    "\n",
    "m, p, f_loss = get_optimal_half_matrix(num_layers=l, pi_range=False, batchOf4=1)\n",
    "print(f\"Trained model for first 4 states with params [-1,1]: layers={l}, fcnot_loss={f_loss}\")\n",
    "m, p, f_loss = get_optimal_half_matrix(num_layers=l, pi_range=True, batchOf4=1)\n",
    "print(f\"Trained model for first 4 states with params [-pi,pi]: layers={l}, fcnot_loss={f_loss}\")\n",
    "m, p, f_loss = get_optimal_half_matrix(num_layers=l, pi_range=False, batchOf4=2)\n",
    "print(f\"Trained model for second 4 states with params [-1,1]: layers={l}, fcnot_loss={f_loss}\")\n",
    "m, p, f_loss = get_optimal_half_matrix(num_layers=l, pi_range=True, batchOf4=2)\n",
    "print(f\"Trained model for second 4 states with params [-pi,pi]: layers={l}, fcnot_loss={f_loss}\")\n",
    "\n",
    "m, p, f_loss = get_optimal_half_matrix(num_layers=l, pi_range=False, batchOf4=1, modified=True)\n",
    "print(f\"Trained model for modified first 4 states with params [-1,1]: layers={l}, fcnot_loss={f_loss}\")\n",
    "m, p, f_loss = get_optimal_half_matrix(num_layers=l, pi_range=True, batchOf4=1, modified=True)\n",
    "print(f\"Trained model for modified first 4 states with params [-pi,pi]: layers={l}, fcnot_loss={f_loss}\")\n",
    "m, p, f_loss = get_optimal_half_matrix(num_layers=l, pi_range=False, batchOf4=2, modified=True)\n",
    "print(f\"Trained model for modified second 4 states with params [-1,1]: layers={l}, fcnot_loss={f_loss}\")\n",
    "m, p, f_loss = get_optimal_half_matrix(num_layers=l, pi_range=True, batchOf4=2, modified=True)\n",
    "print(f\"Trained model for modified second 4 states with params [-pi,pi]: layers={l}, fcnot_loss={f_loss}\")"
   ]
  },
  {
   "cell_type": "code",
   "execution_count": 47,
   "metadata": {},
   "outputs": [
    {
     "name": "stdout",
     "output_type": "stream",
     "text": [
      "Trained model (NON-MODIFIED) with extra states for params [-1,1]: layers=18, fcnot_loss=0.4165036183694318\n",
      "Trained model (MODIFIED) with extra states for params [-1,1]: layers=18, fcnot_loss=0.36372719304585405\n",
      "Trained model (NON-MODIFIED) with extra states for params [-pi,pi]: layers=18, fcnot_loss=0.48653835012375013\n",
      "Trained model (MODIFIED) with extra states for params [-pi,pi]: layers=18, fcnot_loss=0.3676823674719307\n",
      "Trained model (NON-MODIFIED) with normal states for params [-1,1]: layers=18, fcnot_loss=0.31558265583264755\n",
      "Trained model (MODIFIED) with normal states for params [-1,1]: layers=18, fcnot_loss=0.2925393751889955\n",
      "Trained model (NON-MODIFIED) with normal states for params [-pi,pi]: layers=18, fcnot_loss=0.3334449121934268\n",
      "Trained model (MODIFIED) with normal states for params [-pi,pi]: layers=18, fcnot_loss=0.2949956528341103\n",
      "Trained model for first 4 states with params [-1,1]: layers=18, fcnot_loss=0.09375015398923997\n",
      "Trained model for first 4 states with params [-pi,pi]: layers=18, fcnot_loss=0.08684995668943028\n",
      "Trained model for second 4 states with params [-1,1]: layers=18, fcnot_loss=0.09656780064679775\n",
      "Trained model for second 4 states with params [-pi,pi]: layers=18, fcnot_loss=0.10732955868583335\n",
      "Trained model for modified first 4 states with params [-1,1]: layers=18, fcnot_loss=0.1682778481874323\n",
      "Trained model for modified first 4 states with params [-pi,pi]: layers=18, fcnot_loss=0.16221064962525886\n",
      "Trained model for modified second 4 states with params [-1,1]: layers=18, fcnot_loss=0.12702925933238932\n",
      "Trained model for modified second 4 states with params [-pi,pi]: layers=18, fcnot_loss=0.13169647075497323\n"
     ]
    }
   ],
   "source": [
    "l = 18\n",
    "m, p, f_loss = get_optimal_half_matrix(num_layers=l, modified=False, extraStates=True)\n",
    "print(f\"Trained model (NON-MODIFIED) with extra states for params [-1,1]: layers={l}, fcnot_loss={f_loss}\")\n",
    "m, p, f_loss = get_optimal_half_matrix(num_layers=l, modified=True, extraStates=True)\n",
    "print(f\"Trained model (MODIFIED) with extra states for params [-1,1]: layers={l}, fcnot_loss={f_loss}\")\n",
    "m, p, f_loss = get_optimal_half_matrix(num_layers=l, modified=False, pi_range=True, extraStates=True)\n",
    "print(f\"Trained model (NON-MODIFIED) with extra states for params [-pi,pi]: layers={l}, fcnot_loss={f_loss}\")\n",
    "m, p, f_loss = get_optimal_half_matrix(num_layers=l, modified=True, pi_range=True, extraStates=True)\n",
    "print(f\"Trained model (MODIFIED) with extra states for params [-pi,pi]: layers={l}, fcnot_loss={f_loss}\")\n",
    "\n",
    "m, p, f_loss = get_optimal_half_matrix(num_layers=l, modified=False, extraStates=False)\n",
    "print(f\"Trained model (NON-MODIFIED) with normal states for params [-1,1]: layers={l}, fcnot_loss={f_loss}\")\n",
    "m, p, f_loss = get_optimal_half_matrix(num_layers=l, modified=True,extraStates=False)\n",
    "print(f\"Trained model (MODIFIED) with normal states for params [-1,1]: layers={l}, fcnot_loss={f_loss}\")\n",
    "m, p, f_loss = get_optimal_half_matrix(num_layers=l, modified=False, pi_range=True, extraStates=False)\n",
    "print(f\"Trained model (NON-MODIFIED) with normal states for params [-pi,pi]: layers={l}, fcnot_loss={f_loss}\")\n",
    "m, p, f_loss = get_optimal_half_matrix(num_layers=l, modified=True, pi_range=True, extraStates=False)\n",
    "print(f\"Trained model (MODIFIED) with normal states for params [-pi,pi]: layers={l}, fcnot_loss={f_loss}\")\n",
    "\n",
    "m, p, f_loss = get_optimal_half_matrix(num_layers=l, pi_range=False, batchOf4=1)\n",
    "print(f\"Trained model for first 4 states with params [-1,1]: layers={l}, fcnot_loss={f_loss}\")\n",
    "m, p, f_loss = get_optimal_half_matrix(num_layers=l, pi_range=True, batchOf4=1)\n",
    "print(f\"Trained model for first 4 states with params [-pi,pi]: layers={l}, fcnot_loss={f_loss}\")\n",
    "m, p, f_loss = get_optimal_half_matrix(num_layers=l, pi_range=False, batchOf4=2)\n",
    "print(f\"Trained model for second 4 states with params [-1,1]: layers={l}, fcnot_loss={f_loss}\")\n",
    "m, p, f_loss = get_optimal_half_matrix(num_layers=l, pi_range=True, batchOf4=2)\n",
    "print(f\"Trained model for second 4 states with params [-pi,pi]: layers={l}, fcnot_loss={f_loss}\")\n",
    "\n",
    "m, p, f_loss = get_optimal_half_matrix(num_layers=l, pi_range=False, batchOf4=1, modified=True)\n",
    "print(f\"Trained model for modified first 4 states with params [-1,1]: layers={l}, fcnot_loss={f_loss}\")\n",
    "m, p, f_loss = get_optimal_half_matrix(num_layers=l, pi_range=True, batchOf4=1, modified=True)\n",
    "print(f\"Trained model for modified first 4 states with params [-pi,pi]: layers={l}, fcnot_loss={f_loss}\")\n",
    "m, p, f_loss = get_optimal_half_matrix(num_layers=l, pi_range=False, batchOf4=2, modified=True)\n",
    "print(f\"Trained model for modified second 4 states with params [-1,1]: layers={l}, fcnot_loss={f_loss}\")\n",
    "m, p, f_loss = get_optimal_half_matrix(num_layers=l, pi_range=True, batchOf4=2, modified=True)\n",
    "print(f\"Trained model for modified second 4 states with params [-pi,pi]: layers={l}, fcnot_loss={f_loss}\")"
   ]
  },
  {
   "cell_type": "markdown",
   "metadata": {},
   "source": [
    "# Manual matrix multiplication of what the paper suggested"
   ]
  },
  {
   "cell_type": "code",
   "execution_count": 42,
   "metadata": {},
   "outputs": [],
   "source": [
    "from utils import MatrixUtils,DFS\n",
    "\n",
    "def getU_cnot(extraStates=False):\n",
    "\n",
    "    p1 = np.arccos(-1/np.sqrt(3))/np.pi\n",
    "    p2 = np.arcsin(1/np.sqrt(3))/np.pi\n",
    "\n",
    "\n",
    "    def Id_n(n):\n",
    "        assert n >= 0\n",
    "        if n==0:\n",
    "            return 1\n",
    "        temp = I\n",
    "        for i in range(n-1):\n",
    "            temp = np.kron(temp, I)\n",
    "        return temp\n",
    "\n",
    "    matrixUtils = MatrixUtils(pi_range=True, extended_states=extraStates) # pi_range is true since the parameters are in the range of [-pi,pi]\n",
    "    U_ex = lambda p : matrixUtils.U_ex(p)\n",
    "\n",
    "\n",
    "    bounds = [[3,4],[2,5],[3,4],[2,5],[1,4],[2,5],[1,4],[2,5],[1,4],[2,5],[3,4],[2,5],[3,4]]\n",
    "    operators = [U_ex(p1),\n",
    "    np.kron(U_ex(1/2),U_ex(p2)),\n",
    "    U_ex(1),\n",
    "    np.kron(U_ex(-1/2),U_ex(-1/2)),\n",
    "    np.kron(U_ex(1),U_ex(-1/2)),\n",
    "    np.kron(U_ex(-1/2),U_ex(1)),\n",
    "    np.kron(U_ex(-1/2),U_ex(1/2)),\n",
    "    np.kron(U_ex(-1/2),U_ex(1)),\n",
    "    np.kron(U_ex(1),U_ex(-1/2)),\n",
    "    np.kron(U_ex(-1/2),U_ex(-1/2)),\n",
    "    U_ex(1),\n",
    "    np.kron(U_ex(1/2),U_ex(1-p2)),\n",
    "    U_ex(-p1)]\n",
    "\n",
    "\n",
    "    newOps = []\n",
    "    for i, (start, end) in enumerate(bounds):\n",
    "        temp = matrixUtils.nestedKron(Id_n(start),operators[i], Id_n(5-end))\n",
    "        newOps.append(temp.copy())\n",
    "\n",
    "    totalOperator = np.eye(2**6)\n",
    "    for op in newOps:\n",
    "        totalOperator = np.matmul(op,totalOperator)\n",
    "\n",
    "    U_cnot = totalOperator.copy()\n",
    "    return U_cnot\n",
    "\n",
    "def applyOperator(operator, states):\n",
    "    return [np.matmul(operator, mat) for mat in states]\n",
    "\n",
    "\n",
    "def getLoss(extraStates=False, batchOf4=None, modified=False):\n",
    "    if batchOf4 != None:\n",
    "        extraStates = False\n",
    "        modified=False\n",
    "\n",
    "    matrixUtils = MatrixUtils(pi_range=True, extended_states=extraStates)\n",
    "\n",
    "    originalInputStates, originalExpectedStates = DFS().getInitialTargetStates(extraStates=extraStates)\n",
    "    modifiedInputStates, modifiedExpectedStates = DFS().getModifiedInitialTargetStates(extraStates=extraStates)\n",
    "    if batchOf4 == 1:\n",
    "        originalInputStates, originalExpectedStates = originalInputStates[:4], originalExpectedStates[:4]\n",
    "        modifiedInputStates, modifiedExpectedStates = modifiedInputStates[:4], modifiedExpectedStates[:4]\n",
    "    elif batchOf4 == 2:\n",
    "        originalInputStates, originalExpectedStates = originalInputStates[4:], originalExpectedStates[4:]\n",
    "        modifiedInputStates, modifiedExpectedStates = modifiedInputStates[4:], modifiedExpectedStates[4:]\n",
    "\n",
    "    inputStates, expectedStates = (modifiedInputStates, modifiedExpectedStates) if modified else (originalInputStates, originalExpectedStates)\n",
    "\n",
    "    loss_function = matrixUtils.f_cnot_loss if batchOf4==None else getLossFunctionOf4States\n",
    "\n",
    "    U_cnot = getU_cnot(extraStates=extraStates)\n",
    "    predStates = applyOperator(U_cnot, inputStates)\n",
    "    print(f\"For extraStates={extraStates}&batchOf4={batchOf4}&modified={modified}, then loss => {loss_function(expectedStates, predStates)}\")"
   ]
  },
  {
   "cell_type": "code",
   "execution_count": 43,
   "metadata": {},
   "outputs": [
    {
     "name": "stdout",
     "output_type": "stream",
     "text": [
      "For extraStates=False&batchOf4=None&modified=False, then loss => 1.144257634055127\n",
      "For extraStates=True&batchOf4=None&modified=False, then loss => 1.4300245571726808\n",
      "For extraStates=False&batchOf4=None&modified=True, then loss => 1.2497750693297125\n",
      "For extraStates=True&batchOf4=None&modified=True, then loss => 1.5224954010638858\n",
      "For extraStates=False&batchOf4=1&modified=False, then loss => 0.683762932519148\n",
      "For extraStates=False&batchOf4=2&modified=False, then loss => 0.9174932071717218\n"
     ]
    }
   ],
   "source": [
    "getLoss()\n",
    "\n",
    "getLoss(extraStates=True)\n",
    "\n",
    "getLoss(modified=True)\n",
    "\n",
    "getLoss(modified=True, extraStates=True)\n",
    "\n",
    "getLoss(batchOf4=1)\n",
    "\n",
    "getLoss(batchOf4=2)\n"
   ]
  },
  {
   "cell_type": "code",
   "execution_count": null,
   "metadata": {},
   "outputs": [],
   "source": []
  }
 ],
 "metadata": {
  "kernelspec": {
   "display_name": "Python 3 (ipykernel)",
   "language": "python",
   "name": "python3"
  },
  "language_info": {
   "codemirror_mode": {
    "name": "ipython",
    "version": 3
   },
   "file_extension": ".py",
   "mimetype": "text/x-python",
   "name": "python",
   "nbconvert_exporter": "python",
   "pygments_lexer": "ipython3",
   "version": "3.10.13"
  }
 },
 "nbformat": 4,
 "nbformat_minor": 4
}
