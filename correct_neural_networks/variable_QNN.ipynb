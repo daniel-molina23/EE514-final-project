{
 "cells": [
  {
   "cell_type": "markdown",
   "metadata": {},
   "source": [
    "### Embedding states |1>, |2>, |3>, |4>, & |5>"
   ]
  },
  {
   "cell_type": "code",
   "execution_count": 1,
   "metadata": {
    "tags": []
   },
   "outputs": [],
   "source": [
    "import numpy as np\n",
    "from utils import DFS\n",
    "modifiedStates = DFS().getModifiedAllStates()\n",
    "states = DFS().getAllStates()"
   ]
  },
  {
   "cell_type": "code",
   "execution_count": 2,
   "metadata": {},
   "outputs": [
    {
     "name": "stdout",
     "output_type": "stream",
     "text": [
      "8\n"
     ]
    }
   ],
   "source": [
    "print(len(states))"
   ]
  },
  {
   "cell_type": "code",
   "execution_count": 3,
   "metadata": {
    "tags": []
   },
   "outputs": [
    {
     "name": "stdout",
     "output_type": "stream",
     "text": [
      "ensuring states are normalized (aka <s|s> ~ 1)\n",
      "1.0000000000000002\n",
      "1.0\n",
      "1.0\n",
      "1.0\n",
      "1.0000000000000004\n",
      "1.0000000000000002\n",
      "1.0000000000000002\n",
      "1.0000000000000007\n",
      "-----------------------\n",
      "All 8 states are orthogonal with each other\n"
     ]
    }
   ],
   "source": [
    "\n",
    "print('ensuring states are normalized (aka <s|s> ~ 1)')\n",
    "for s in states:\n",
    "    print(np.dot(s,s))\n",
    "\n",
    "print('-----------------------')\n",
    "total = 0\n",
    "for i in range(len(states)-1):\n",
    "    for j in range(len(states)-1):\n",
    "        if i != j:\n",
    "            temp = np.dot(states[i],states[j])\n",
    "            # print(f'<state{i+1}|state{j+1}> = {temp}')\n",
    "            total += temp\n",
    "\n",
    "orthoStatement = 'All 8 states are orthogonal with each other' if total <= 1e-14 else 'All 8 states are - NOT - orthogonal with each other'\n",
    "print(orthoStatement)"
   ]
  },
  {
   "cell_type": "markdown",
   "metadata": {},
   "source": [
    "### Above ^ states were shown to be orthogonal and form a computational basis to work with \n",
    "### --------------------------------------------------------\n",
    "## Now below we are trying to use the fixed ansatz or circuit to see if we are encoding the circuit correctly"
   ]
  },
  {
   "cell_type": "code",
   "execution_count": 4,
   "metadata": {
    "tags": []
   },
   "outputs": [
    {
     "name": "stdout",
     "output_type": "stream",
     "text": [
      "NOT MODIFIED\n",
      "=====================================\n",
      "for state1, we get |<expected_state|U_cnot|state1>|^2 = 0.06249999999999972\t\t\t(should be = 1)\n",
      "for state2, we get |<expected_state|U_cnot|state2>|^2 = 0.06250000000000011\t\t\t(should be = 1)\n",
      "for state3, we get |<expected_state|U_cnot|state3>|^2 = 0.080950376732586\t\t\t(should be = 1)\n",
      "for state4, we get |<expected_state|U_cnot|state4>|^2 = 0.08095037673258584\t\t\t(should be = 1)\n"
     ]
    },
    {
     "name": "stdout",
     "output_type": "stream",
     "text": [
      "for state5, we get |<expected_state|U_cnot|state5>|^2 = 0.0625\t\t\t(should be = 1)\n",
      "for state6, we get |<expected_state|U_cnot|state6>|^2 = 0.06250000000000022\t\t\t(should be = 1)\n",
      "for state7, we get |<expected_state|U_cnot|state7>|^2 = 0.09876543209876552\t\t\t(should be = 1)\n",
      "for state8, we get |<expected_state|U_cnot|state8>|^2 = 0.09876543209876545\t\t\t(should be = 1)\n",
      "If fixed matrix going into f_cnot = 0, then perfect! However, we get = 1.3086699928923402\n",
      "MODIFIED\n",
      "=====================================\n",
      "for state1, we get |<expected_state|U_cnot|state1>|^2 = 0.06249999999999989\t\t\t(should be = 1)\n",
      "for state2, we get |<expected_state|U_cnot|state2>|^2 = 0.06250000000000006\t\t\t(should be = 1)\n",
      "for state3, we get |<expected_state|U_cnot|state3>|^2 = 0.08095037673258602\t\t\t(should be = 1)\n",
      "for state4, we get |<expected_state|U_cnot|state4>|^2 = 0.08095037673258594\t\t\t(should be = 1)\n",
      "for state5, we get |<expected_state|U_cnot|state5>|^2 = 0.06249999999999989\t\t\t(should be = 1)\n",
      "for state6, we get |<expected_state|U_cnot|state6>|^2 = 0.06250000000000017\t\t\t(should be = 1)\n",
      "for state7, we get |<expected_state|U_cnot|state7>|^2 = 0.09876543209876552\t\t\t(should be = 1)\n",
      "for state8, we get |<expected_state|U_cnot|state8>|^2 = 0.09876543209876545\t\t\t(should be = 1)\n",
      "If fixed matrix going into f_cnot = 0, then perfect! However, we get = 1.3387384678671959\n"
     ]
    }
   ],
   "source": [
    "from scipy.linalg import expm\n",
    "X = [[0,1],[1,0]]\n",
    "Y = np.array([[0,-1j],[1j,0]], dtype=np.complex128)\n",
    "Z = [[1,0],[0,-1]]\n",
    "I = np.eye(2)\n",
    "Udot = lambda s1, U, s2 : np.dot(np.conjugate(np.transpose(s1)),np.matmul(U,s2))\n",
    "\n",
    "H_ex = (1/4)*(np.kron(X,X) + np.kron(Y,Y) + np.kron(Z,Z))\n",
    "\n",
    "U_ex = lambda p : expm(-1j*np.pi*p*H_ex)\n",
    "\n",
    "amp_sqrd = lambda c : np.real(c*np.conjugate(c))\n",
    "\n",
    "inputStates, expectedStates = DFS().getInitialTargetStates()\n",
    "modifiedInputStates, modifiedExpectedStates = DFS().getModifiedInitialTargetStates()\n",
    "# evaluation function (minimization function)\n",
    "def f_CNOT(U, modified=False):\n",
    "    total_c_1 = 0\n",
    "    for i in range(4):\n",
    "        if modified:\n",
    "            total_c_1 += amp_sqrd(Udot(modifiedExpectedStates[i],U,modifiedInputStates[i]))\n",
    "        else:\n",
    "            total_c_1 += amp_sqrd(Udot(expectedStates[i],U,inputStates[i]))\n",
    "    total_c_2 = 0\n",
    "    for i in range(4,len(inputStates)):\n",
    "        if modified:\n",
    "            total_c_2 += amp_sqrd(Udot(modifiedExpectedStates[i],U,modifiedInputStates[i]))\n",
    "        else:\n",
    "            total_c_2 += amp_sqrd(Udot(expectedStates[i],U,inputStates[i]))\n",
    "    return np.sqrt(2-(1/4)*abs(total_c_1) - (1/4)*abs(total_c_2))\n",
    "\n",
    "#### We need to do it in pennylane to make it easy to train ....\n",
    "import pennylane as qml\n",
    "from pennylane import numpy as np\n",
    "\n",
    "np.random.seed(42)\n",
    "\n",
    "def square_loss(targets, predictions):\n",
    "    loss = 0\n",
    "    for t, p in zip(targets, predictions):\n",
    "        loss += (t - p) ** 2\n",
    "    loss = loss / len(targets)\n",
    "    return 0.5*loss\n",
    "\n",
    "dev = qml.device('default.qubit', wires=6)\n",
    "\n",
    "p1 = np.arccos(-1/np.sqrt(3))/np.pi\n",
    "p2 = np.arcsin(1/3)/np.pi\n",
    "\n",
    "\n",
    "def fixedCNOTCircuit():\n",
    "    # We know this CNOT works\n",
    "    # Figure 1 from \"Universal Quantum Computation and Leakage Reduction in the 3-Qubit Decoherence Free Subsystem\"\n",
    "    qml.QubitUnitary(U_ex(p1), wires=[3,4])\n",
    "    #\n",
    "    qml.QubitUnitary(U_ex(1/2), wires=[2,3])\n",
    "    qml.QubitUnitary(U_ex(p2), wires=[4,5])\n",
    "    #\n",
    "    qml.QubitUnitary(U_ex(1), wires=[3,4])\n",
    "    #\n",
    "    qml.QubitUnitary(U_ex(-1/2), wires=[2,3])\n",
    "    qml.QubitUnitary(U_ex(-1/2), wires=[4,5])\n",
    "    #\n",
    "    qml.QubitUnitary(U_ex(1), wires=[1,2])\n",
    "    qml.QubitUnitary(U_ex(-1/2), wires=[3,4])\n",
    "    #\n",
    "    qml.QubitUnitary(U_ex(-1/2), wires=[2,3])\n",
    "    qml.QubitUnitary(U_ex(1), wires=[4,5])\n",
    "    #\n",
    "    qml.QubitUnitary(U_ex(-1/2), wires=[1,2])\n",
    "    qml.QubitUnitary(U_ex(1/2), wires=[3,4])\n",
    "    #\n",
    "    qml.QubitUnitary(U_ex(-1/2), wires=[2,3])\n",
    "    qml.QubitUnitary(U_ex(1), wires=[4,5])\n",
    "    #\n",
    "    qml.QubitUnitary(U_ex(1), wires=[1,2])\n",
    "    qml.QubitUnitary(U_ex(-1/2), wires=[3,4])\n",
    "    #\n",
    "    qml.QubitUnitary(U_ex(-1/2), wires=[2,3])\n",
    "    qml.QubitUnitary(U_ex(-1/2), wires=[4,5])\n",
    "    #\n",
    "    qml.QubitUnitary(U_ex(1), wires=[3,4])\n",
    "    #\n",
    "    qml.QubitUnitary(U_ex(1/2), wires=[2,3])\n",
    "    qml.QubitUnitary(U_ex(1-p2), wires=[4,5])\n",
    "    #\n",
    "    qml.QubitUnitary(U_ex(-p1), wires=[3,4])\n",
    "\n",
    "\n",
    "\n",
    "@qml.qnode(dev)\n",
    "def quantum_model(state_):\n",
    "    qml.AmplitudeEmbedding(state_, wires=range(6))\n",
    "    fixedCNOTCircuit()\n",
    "    return qml.state()\n",
    "\n",
    "def target_function(U_prime, modified=False):\n",
    "    # approximated function\n",
    "    return f_CNOT(U_prime, modified=modified)\n",
    "\n",
    "\n",
    "print('NOT MODIFIED')\n",
    "print(\"=====================================\")\n",
    "for i, state in enumerate(states): ############################# TODO: I think this needs to be fixed because it's outputting the wrong shit <<<<<<<<<<<<<<<<<<<-------------------------\n",
    "    newstate = quantum_model(state)\n",
    "    dot_val = np.dot(np.conjugate(np.transpose(newstate)), expectedStates[i])\n",
    "    dot_sqrd = dot_val*np.conjugate(dot_val)\n",
    "    print(f'for state{i+1}, we get |<expected_state|U_cnot|state{i+1}>|^2 = {np.real(dot_sqrd)}\\t\\t\\t(should be = 1)')\n",
    "\n",
    "op = qml.prod(fixedCNOTCircuit)() # finds the product for of these matrices\n",
    "solved_U_cnot_matrix = qml.matrix(op)\n",
    "print(f'If fixed matrix going into f_cnot = 0, then perfect! However, we get = {target_function(np.kron(I,solved_U_cnot_matrix))}')\n",
    "\n",
    "\n",
    "print(\"MODIFIED\")\n",
    "print(\"=====================================\")\n",
    "for i, state in enumerate(modifiedStates):\n",
    "    newstate = quantum_model(state)\n",
    "    dot_val = np.dot(np.conjugate(np.transpose(newstate)), modifiedExpectedStates[i])\n",
    "    dot_sqrd = dot_val*np.conjugate(dot_val)\n",
    "    print(f'for state{i+1}, we get |<expected_state|U_cnot|state{i+1}>|^2 = {np.real(dot_sqrd)}\\t\\t\\t(should be = 1)')\n",
    "\n",
    "op = qml.prod(fixedCNOTCircuit)() # finds the product for of these matrices\n",
    "solved_U_cnot_matrix = qml.matrix(op)\n",
    "print(f'If fixed matrix going into f_cnot = 0, then perfect! However, we get = {target_function(np.kron(I,solved_U_cnot_matrix), modified=True)}')"
   ]
  },
  {
   "cell_type": "code",
   "execution_count": 5,
   "metadata": {
    "tags": []
   },
   "outputs": [],
   "source": [
    "import random\n",
    "\n",
    "def fill_array_with_random_values(size):\n",
    "    random_values = [random.uniform(-1, 1) for _ in range(size)]\n",
    "    return random_values\n",
    "array_size = 18\n",
    "param = fill_array_with_random_values(array_size)\n",
    "\n",
    "\n",
    "\n",
    "def variableCNOTCircuit(param):\n",
    "    # We know this CNOT works\n",
    "    # Figure 1 from \"Universal Quantum Computation and Leakage Reduction in the 3-Qubit Decoherence Free Subsystem\"\n",
    "    qml.QubitUnitary(U_ex(p1), wires=[3,4])\n",
    "    #\n",
    "    qml.QubitUnitary(U_ex(param[0]), wires=[2,3])\n",
    "    qml.QubitUnitary(U_ex(p2), wires=[4,5])\n",
    "    #\n",
    "    qml.QubitUnitary(U_ex(param[1]), wires=[3,4])\n",
    "    #\n",
    "    qml.QubitUnitary(U_ex(param[2]), wires=[2,3])\n",
    "    qml.QubitUnitary(U_ex(param[3]), wires=[4,5])\n",
    "    #\n",
    "    qml.QubitUnitary(U_ex(param[4]), wires=[1,2])\n",
    "    qml.QubitUnitary(U_ex(param[5]), wires=[3,4])\n",
    "    #\n",
    "    qml.QubitUnitary(U_ex(param[6]), wires=[2,3])\n",
    "    qml.QubitUnitary(U_ex(param[7]), wires=[4,5])\n",
    "    #\n",
    "    qml.QubitUnitary(U_ex(param[8]), wires=[1,2])\n",
    "    qml.QubitUnitary(U_ex(param[9]), wires=[3,4])\n",
    "    #\n",
    "    qml.QubitUnitary(U_ex(param[10]), wires=[2,3])\n",
    "    qml.QubitUnitary(U_ex(param[11]), wires=[4,5])\n",
    "    #\n",
    "    qml.QubitUnitary(U_ex(param[12]), wires=[1,2])\n",
    "    qml.QubitUnitary(U_ex(param[13]), wires=[3,4])\n",
    "    #\n",
    "    qml.QubitUnitary(U_ex(param[14]), wires=[2,3])\n",
    "    qml.QubitUnitary(U_ex(param[15]), wires=[4,5])\n",
    "    #\n",
    "    qml.QubitUnitary(U_ex(param[16]), wires=[3,4])\n",
    "    #\n",
    "    qml.QubitUnitary(U_ex(param[17]), wires=[2,3])\n",
    "    qml.QubitUnitary(U_ex(1-p2), wires=[4,5])\n",
    "    #\n",
    "    qml.QubitUnitary(U_ex(-p1), wires=[3,4])\n",
    "\n"
   ]
  },
  {
   "cell_type": "code",
   "execution_count": 6,
   "metadata": {
    "tags": []
   },
   "outputs": [],
   "source": [
    "def func_target(param, modified=False):\n",
    "    solved_U_cnot_matrix = qml.matrix(variableCNOTCircuit)(param)\n",
    "    return target_function(np.kron(I,solved_U_cnot_matrix), modified=modified)"
   ]
  },
  {
   "cell_type": "code",
   "execution_count": 7,
   "metadata": {
    "tags": []
   },
   "outputs": [],
   "source": [
    "import random\n",
    "\n",
    "def fill_array_with_random_values(size):\n",
    "    random_values = [random.uniform(-1, 1) for _ in range(size)]\n",
    "    return random_values\n",
    "array_size = 18\n",
    "param = fill_array_with_random_values(array_size)"
   ]
  },
  {
   "cell_type": "code",
   "execution_count": 8,
   "metadata": {
    "tags": []
   },
   "outputs": [],
   "source": [
    "from scipy import optimize\n",
    "bounds = optimize.Bounds(-1.0,1.0)\n",
    "p_vals = optimize.minimize(func_target, param, method='L-BFGS-B',tol = 1e-5, bounds = bounds)\n",
    "\n",
    "p_vals_mod = optimize.minimize(func_target, param, method='L-BFGS-B',tol = 1e-5, bounds = bounds, args=(True,))\n"
   ]
  },
  {
   "cell_type": "code",
   "execution_count": 9,
   "metadata": {
    "jupyter": {
     "source_hidden": true
    },
    "tags": []
   },
   "outputs": [
    {
     "name": "stdout",
     "output_type": "stream",
     "text": [
      "NOT MODIFIED\n",
      "[-4.99213636e-01  6.60475675e-05 -5.00792616e-01 -7.59026038e-02\n",
      "  2.00804208e-01  6.02980397e-01 -2.41232108e-04  9.77859352e-01\n",
      "  5.15510890e-01  9.62917661e-01 -2.09028570e-04 -5.46487373e-01\n",
      " -7.16510481e-01  6.96594958e-02  7.51589085e-01  5.07627573e-02\n",
      " -2.58425606e-04  2.48275326e-01]\n",
      "MODIFIED\n",
      "[-5.95011294e-01 -6.59694263e-04 -4.04254341e-01 -1.01495207e-01\n",
      "  2.03775021e-01  9.85437047e-01  4.88261498e-04  9.90204610e-01\n",
      "  4.59298069e-01  9.94144927e-01 -2.18910689e-04 -9.74157883e-01\n",
      " -6.62814073e-01  3.72589969e-02  6.67180459e-01  9.75984092e-02\n",
      " -6.48693219e-04  3.32925724e-01]\n"
     ]
    }
   ],
   "source": [
    "print('NOT MODIFIED')\n",
    "print(p_vals.x)\n",
    "print('MODIFIED')\n",
    "print(p_vals_mod.x)"
   ]
  },
  {
   "cell_type": "code",
   "execution_count": 10,
   "metadata": {
    "tags": []
   },
   "outputs": [
    {
     "name": "stdout",
     "output_type": "stream",
     "text": [
      "NOT MODIFIED\n",
      "=====================================\n",
      "for state1, we get |<expected_state|U_cnot|state1>|^2 = 0.999999766150778\t\t\t(should be = 1)\n",
      "for state2, we get |<expected_state|U_cnot|state2>|^2 = 0.9438923513866582\t\t\t(should be = 1)\n",
      "for state3, we get |<expected_state|U_cnot|state3>|^2 = 1.9496754518495303e-07\t\t\t(should be = 1)\n",
      "for state4, we get |<expected_state|U_cnot|state4>|^2 = 2.3970300710503692e-08\t\t\t(should be = 1)\n",
      "for state5, we get |<expected_state|U_cnot|state5>|^2 = 0.9999995018951073\t\t\t(should be = 1)\n",
      "for state6, we get |<expected_state|U_cnot|state6>|^2 = 0.44664128968963734\t\t\t(should be = 1)\n",
      "for state7, we get |<expected_state|U_cnot|state7>|^2 = 8.16473697141858e-08\t\t\t(should be = 1)\n",
      "for state8, we get |<expected_state|U_cnot|state8>|^2 = 2.995876023458497e-08\t\t\t(should be = 1)\n",
      "If fixed matrix going into f_cnot = 0, then perfect! However, we get = 1.0000001650249675\n",
      "MODIFIED\n",
      "=====================================\n",
      "for state1, we get |<expected_state|U_cnot|state1>|^2 = 0.9999969375967799\t\t\t(should be = 1)\n",
      "for state2, we get |<expected_state|U_cnot|state2>|^2 = 0.24952812542070668\t\t\t(should be = 1)\n",
      "for state3, we get |<expected_state|U_cnot|state3>|^2 = 1.0161299216140755e-06\t\t\t(should be = 1)\n",
      "for state4, we get |<expected_state|U_cnot|state4>|^2 = 6.190969961625284e-07\t\t\t(should be = 1)\n",
      "for state5, we get |<expected_state|U_cnot|state5>|^2 = 0.0018351936735178165\t\t\t(should be = 1)\n",
      "for state6, we get |<expected_state|U_cnot|state6>|^2 = 0.11198812663802973\t\t\t(should be = 1)\n",
      "for state7, we get |<expected_state|U_cnot|state7>|^2 = 8.069160678749147e-07\t\t\t(should be = 1)\n",
      "for state8, we get |<expected_state|U_cnot|state8>|^2 = 5.570433366996612e-07\t\t\t(should be = 1)\n",
      "If fixed matrix going into f_cnot = 0, then perfect! However, we get = 1.0000021269870063\n"
     ]
    }
   ],
   "source": [
    "optimised_params = p_vals.x\n",
    "mod_optimised_params = p_vals_mod.x\n",
    "\n",
    "@qml.qnode(dev)\n",
    "def quantum_model(state_):\n",
    "    qml.AmplitudeEmbedding(state_, wires=range(6))\n",
    "    variableCNOTCircuit(optimised_params)\n",
    "    return qml.state()\n",
    "\n",
    "@qml.qnode(dev)\n",
    "def quantum_model_mod(state_):\n",
    "    qml.AmplitudeEmbedding(state_, wires=range(6))\n",
    "    variableCNOTCircuit(mod_optimised_params)\n",
    "    return qml.state()\n",
    "\n",
    "def target_function(U_prime, modified=False):\n",
    "    # approximated function\n",
    "    return f_CNOT(U_prime, modified=modified)\n",
    "\n",
    "\n",
    "print('NOT MODIFIED')\n",
    "print(\"=====================================\")\n",
    "for i, state in enumerate(states): ############################# TODO: I think this needs to be fixed because it's outputting the wrong shit <<<<<<<<<<<<<<<<<<<-------------------------\n",
    "    newstate = quantum_model(state)\n",
    "    dot_val = np.dot(np.conjugate(np.transpose(newstate)), expectedStates[i])\n",
    "    dot_sqrd = dot_val*np.conjugate(dot_val)\n",
    "    print(f'for state{i+1}, we get |<expected_state|U_cnot|state{i+1}>|^2 = {np.real(dot_sqrd)}\\t\\t\\t(should be = 1)')\n",
    "\n",
    "op = qml.prod(variableCNOTCircuit)(optimised_params) # finds the product for of these matrices\n",
    "solved_U_cnot_matrix = qml.matrix(op)\n",
    "print(f'If fixed matrix going into f_cnot = 0, then perfect! However, we get = {target_function(np.kron(I,solved_U_cnot_matrix))}')\n",
    "\n",
    "\n",
    "print(\"MODIFIED\")\n",
    "print(\"=====================================\")\n",
    "for i, state in enumerate(modifiedStates): ############################# TODO: I think this needs to be fixed because it's outputting the wrong shit <<<<<<<<<<<<<<<<<<<-------------------------\n",
    "    newstate = quantum_model_mod(state)\n",
    "    dot_val = np.dot(np.conjugate(np.transpose(newstate)), modifiedExpectedStates[i])\n",
    "    dot_sqrd = dot_val*np.conjugate(dot_val)\n",
    "    print(f'for state{i+1}, we get |<expected_state|U_cnot|state{i+1}>|^2 = {np.real(dot_sqrd)}\\t\\t\\t(should be = 1)')\n",
    "\n",
    "op = qml.prod(variableCNOTCircuit)(mod_optimised_params) # finds the product for of these matrices\n",
    "solved_U_cnot_matrix = qml.matrix(op)\n",
    "print(f'If fixed matrix going into f_cnot = 0, then perfect! However, we get = {target_function(np.kron(I,solved_U_cnot_matrix), modified=True)}')"
   ]
  },
  {
   "cell_type": "code",
   "execution_count": 11,
   "metadata": {
    "tags": []
   },
   "outputs": [
    {
     "name": "stdout",
     "output_type": "stream",
     "text": [
      "Step = 0,  Cost function = 1.30332220 \n"
     ]
    },
    {
     "name": "stderr",
     "output_type": "stream",
     "text": [
      "/Users/danielmolina/opt/anaconda3/envs/qrl/lib/python3.10/site-packages/pennylane/_grad.py:110: UserWarning: Attempted to differentiate a function with no trainable parameters. If this is unintended, please add trainable parameters via the 'requires_grad' attribute or 'argnum' keyword.\n",
      "  warnings.warn(\n"
     ]
    },
    {
     "name": "stdout",
     "output_type": "stream",
     "text": [
      "Step = 10,  Cost function = 1.30332220 \n",
      "Step = 20,  Cost function = 1.30332220 \n",
      "Step = 30,  Cost function = 1.30332220 \n",
      "Step = 40,  Cost function = 1.30332220 \n",
      "Step = 50,  Cost function = 1.30332220 \n",
      "Step = 60,  Cost function = 1.30332220 \n",
      "Step = 70,  Cost function = 1.30332220 \n",
      "Step = 80,  Cost function = 1.30332220 \n",
      "Step = 90,  Cost function = 1.30332220 \n",
      "\n",
      "Final value of the cost function = 1.30332220 \n"
     ]
    }
   ],
   "source": [
    "p_vals = [param]\n",
    "cost = [func_target(param)] \n",
    "opt = qml.AdagradOptimizer()\n",
    "max_iterations = 100 \n",
    "conv_tol = 0.1 \n",
    "\n",
    "for n in range(max_iterations):\n",
    "    param, prev_cost = opt.step_and_cost(func_target, param) # need to fix the cost function not optimising for fnot\n",
    "    cost.append(func_target(param))\n",
    "    p_vals.append(param)\n",
    "\n",
    "    conv = np.abs(cost[-1] - prev_cost)\n",
    "    if n % 10 == 0:\n",
    "        print(f\"Step = {n},  Cost function = {cost[-1]:.8f} \")\n",
    "    if conv >= conv_tol:\n",
    "        break\n",
    "\n",
    "print(\"\\n\" f\"Final value of the cost function = {cost[-1]:.8f} \")"
   ]
  },
  {
   "cell_type": "code",
   "execution_count": null,
   "metadata": {},
   "outputs": [],
   "source": []
  }
 ],
 "metadata": {
  "kernelspec": {
   "display_name": "Python 3 (ipykernel)",
   "language": "python",
   "name": "python3"
  },
  "language_info": {
   "codemirror_mode": {
    "name": "ipython",
    "version": 3
   },
   "file_extension": ".py",
   "mimetype": "text/x-python",
   "name": "python",
   "nbconvert_exporter": "python",
   "pygments_lexer": "ipython3",
   "version": "3.10.13"
  }
 },
 "nbformat": 4,
 "nbformat_minor": 4
}
