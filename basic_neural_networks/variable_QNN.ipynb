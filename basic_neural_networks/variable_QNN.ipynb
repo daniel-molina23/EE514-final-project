{
 "cells": [
  {
   "cell_type": "markdown",
   "metadata": {},
   "source": [
    "### Embedding states |1>, |2>, |3>, |4>, & |5>"
   ]
  },
  {
   "cell_type": "code",
   "execution_count": 2,
   "metadata": {
    "tags": []
   },
   "outputs": [],
   "source": [
    "import numpy as np\n",
    "from utils import DFS\n",
    "states = DFS().getAllStates()"
   ]
  },
  {
   "cell_type": "code",
   "execution_count": 3,
   "metadata": {
    "tags": []
   },
   "outputs": [
    {
     "name": "stdout",
     "output_type": "stream",
     "text": [
      "ensuring states are normalized (aka <s|s> ~ 1)\n",
      "1.0000000000000004\n",
      "0.9999999999999999\n",
      "0.9999999999999998\n",
      "0.9999999999999998\n",
      "1.0\n",
      "-----------------------\n",
      "First 4 states are orthogonal with each other\n",
      "-----------------------\n",
      "<state5|state1> = 0.0\n",
      "<state5|state2> = 0.0\n",
      "<state5|state3> = 0.0\n",
      "<state5|state4> = 2.7755575615628914e-17\n",
      "Since dot product of states are close enough to zero, we conclude all states are orthogonal to each other\n"
     ]
    }
   ],
   "source": [
    "\n",
    "print('ensuring states are normalized (aka <s|s> ~ 1)')\n",
    "for s in states:\n",
    "    print(np.dot(s,s))\n",
    "\n",
    "print('-----------------------')\n",
    "total = 0\n",
    "for i in range(len(states)-1):\n",
    "    for j in range(len(states)-1):\n",
    "        if i != j:\n",
    "            temp = np.dot(states[i],states[j])\n",
    "            total += temp\n",
    "\n",
    "orthoStatement = 'First 4 states are orthogonal with each other' if total == 0 else 'First 4 states are - NOT - orthogonal with each other'\n",
    "print(orthoStatement)\n",
    "\n",
    "print('-----------------------')\n",
    "i = len(states)-1\n",
    "for j in range(len(states)):\n",
    "    if i != j:\n",
    "        temp = np.dot(states[i],states[j])\n",
    "        print(f'<state5|state{j+1}> = {temp}')\n",
    "        total += temp\n",
    "\n",
    "print('Since dot product of states are close enough to zero, we conclude all states are orthogonal to each other')"
   ]
  },
  {
   "cell_type": "code",
   "execution_count": null,
   "metadata": {},
   "outputs": [],
   "source": []
  },
  {
   "cell_type": "markdown",
   "metadata": {},
   "source": [
    "### So above ^ I was able to prove that those states are correct. \n",
    "### --------------------------------------------------------\n",
    "## Now below we are trying to use the fixed ansatz or circuit to see if we are encoding the circuit correctly\n",
    "### Please edit the parts which say `TODO` and where you deem necessary"
   ]
  },
  {
   "cell_type": "code",
   "execution_count": 4,
   "metadata": {
    "tags": []
   },
   "outputs": [
    {
     "name": "stdout",
     "output_type": "stream",
     "text": [
      "for state1, we get |<expected_state|U_cnot|state1>|^2 = 0.809134526419166\t\t\t(should be = 1)\n",
      "for state2, we get |<expected_state|U_cnot|state2>|^2 = 0.1596154735808357\t\t\t(should be = 1)\n",
      "for state3, we get |<expected_state|U_cnot|state3>|^2 = 0.015624999999999924\t\t\t(should be = 1)\n",
      "for state4, we get |<expected_state|U_cnot|state4>|^2 = 0.015625\t\t\t(should be = 1)\n",
      "for state5, we get |<expected_state|U_cnot|state5>|^2 = 0.1289648447247734\t\t\t(should be = 1)\n",
      "If fixed matrix going into f_cnot = 0, then perfect! However, we get = 0.7223783708629552\n"
     ]
    }
   ],
   "source": [
    "from scipy.linalg import expm\n",
    "X = [[0,1],[1,0]]\n",
    "Y = np.array([[0,-1j],[1j,0]], dtype=np.complex128)\n",
    "Z = [[1,0],[0,-1]]\n",
    "I = np.eye(2)\n",
    "Udot = lambda s1, U, s2 : np.dot(np.conjugate(np.transpose(s1)),np.matmul(U,s2))\n",
    "\n",
    "H_ex = (1/4)*(np.kron(X,X) + np.kron(Y,Y) + np.kron(Z,Z))\n",
    "\n",
    "U_ex = lambda p : expm(-1j*np.pi*p*H_ex)\n",
    "\n",
    "amp_sqrd = lambda c : np.real(c*np.conjugate(c))\n",
    "\n",
    "inputStates, expectedStates = DFS().getInitialTargetStates()\n",
    "# evaluation function (minimization function)\n",
    "def f_CNOT(U):\n",
    "    total_c = 0\n",
    "    for i in range(len(inputStates)):\n",
    "        total_c += amp_sqrd(Udot(expectedStates[i],U,inputStates[i]))\n",
    "    return np.sqrt(1-(1/4)*abs(total_c))\n",
    "\n",
    "#### We need to do it in pennylane to make it easy to train ....\n",
    "import pennylane as qml\n",
    "from pennylane import numpy as np\n",
    "\n",
    "np.random.seed(42)\n",
    "\n",
    "def square_loss(targets, predictions):\n",
    "    loss = 0\n",
    "    for t, p in zip(targets, predictions):\n",
    "        loss += (t - p) ** 2\n",
    "    loss = loss / len(targets)\n",
    "    return 0.5*loss\n",
    "\n",
    "dev = qml.device('default.qubit', wires=6)\n",
    "\n",
    "p1 = np.arccos(-1/np.sqrt(3))/np.pi\n",
    "p2 = np.arcsin(1/3)/np.pi\n",
    "\n",
    "\n",
    "def fixedCNOTCircuit():\n",
    "    # We know this CNOT works\n",
    "    # Figure 1 from \"Universal Quantum Computation and Leakage Reduction in the 3-Qubit Decoherence Free Subsystem\"\n",
    "    qml.QubitUnitary(U_ex(p1), wires=[3,4])\n",
    "    #\n",
    "    qml.QubitUnitary(U_ex(1/2), wires=[2,3])\n",
    "    qml.QubitUnitary(U_ex(p2), wires=[4,5])\n",
    "    #\n",
    "    qml.QubitUnitary(U_ex(1), wires=[3,4])\n",
    "    #\n",
    "    qml.QubitUnitary(U_ex(-1/2), wires=[2,3])\n",
    "    qml.QubitUnitary(U_ex(-1/2), wires=[4,5])\n",
    "    #\n",
    "    qml.QubitUnitary(U_ex(1), wires=[1,2])\n",
    "    qml.QubitUnitary(U_ex(-1/2), wires=[3,4])\n",
    "    #\n",
    "    qml.QubitUnitary(U_ex(-1/2), wires=[2,3])\n",
    "    qml.QubitUnitary(U_ex(1), wires=[4,5])\n",
    "    #\n",
    "    qml.QubitUnitary(U_ex(-1/2), wires=[1,2])\n",
    "    qml.QubitUnitary(U_ex(1/2), wires=[3,4])\n",
    "    #\n",
    "    qml.QubitUnitary(U_ex(-1/2), wires=[2,3])\n",
    "    qml.QubitUnitary(U_ex(1), wires=[4,5])\n",
    "    #\n",
    "    qml.QubitUnitary(U_ex(1), wires=[1,2])\n",
    "    qml.QubitUnitary(U_ex(-1/2), wires=[3,4])\n",
    "    #\n",
    "    qml.QubitUnitary(U_ex(-1/2), wires=[2,3])\n",
    "    qml.QubitUnitary(U_ex(-1/2), wires=[4,5])\n",
    "    #\n",
    "    qml.QubitUnitary(U_ex(1), wires=[3,4])\n",
    "    #\n",
    "    qml.QubitUnitary(U_ex(1/2), wires=[2,3])\n",
    "    qml.QubitUnitary(U_ex(1-p2), wires=[4,5])\n",
    "    #\n",
    "    qml.QubitUnitary(U_ex(-p1), wires=[3,4])\n",
    "\n",
    "\n",
    "\n",
    "@qml.qnode(dev)\n",
    "def quantum_model(state_):\n",
    "    qml.AmplitudeEmbedding(state_, wires=range(6))\n",
    "    fixedCNOTCircuit()\n",
    "    return qml.state()\n",
    "\n",
    "def target_function(U_prime):\n",
    "    # approximated function\n",
    "    return f_CNOT(U_prime)\n",
    "\n",
    "\n",
    "\n",
    "\n",
    "for i, state in enumerate(states): ############################# TODO: I think this needs to be fixed because it's outputting the wrong shit <<<<<<<<<<<<<<<<<<<-------------------------\n",
    "    newstate = quantum_model(state)\n",
    "    dot_val = np.dot(np.conjugate(np.transpose(newstate)), expectedStates[i])\n",
    "    dot_sqrd = dot_val*np.conjugate(dot_val)\n",
    "    print(f'for state{i+1}, we get |<expected_state|U_cnot|state{i+1}>|^2 = {np.real(dot_sqrd)}\\t\\t\\t(should be = 1)')\n",
    "\n",
    "op = qml.prod(fixedCNOTCircuit)() # finds the product for of these matrices\n",
    "solved_U_cnot_matrix = qml.matrix(op)\n",
    "print(f'If fixed matrix going into f_cnot = 0, then perfect! However, we get = {target_function(np.kron(I,solved_U_cnot_matrix))}')"
   ]
  },
  {
   "cell_type": "code",
   "execution_count": 5,
   "metadata": {
    "tags": []
   },
   "outputs": [],
   "source": [
    "import random\n",
    "\n",
    "def fill_array_with_random_values(size):\n",
    "    random_values = [random.uniform(-1, 1) for _ in range(size)]\n",
    "    return random_values\n",
    "array_size = 18\n",
    "param = fill_array_with_random_values(array_size)\n",
    "\n",
    "\n",
    "\n",
    "def variableCNOTCircuit(param):\n",
    "    # We know this CNOT works\n",
    "    # Figure 1 from \"Universal Quantum Computation and Leakage Reduction in the 3-Qubit Decoherence Free Subsystem\"\n",
    "    qml.QubitUnitary(U_ex(p1), wires=[3,4])\n",
    "    #\n",
    "    qml.QubitUnitary(U_ex(param[0]), wires=[2,3])\n",
    "    qml.QubitUnitary(U_ex(p2), wires=[4,5])\n",
    "    #\n",
    "    qml.QubitUnitary(U_ex(param[1]), wires=[3,4])\n",
    "    #\n",
    "    qml.QubitUnitary(U_ex(param[2]), wires=[2,3])\n",
    "    qml.QubitUnitary(U_ex(param[3]), wires=[4,5])\n",
    "    #\n",
    "    qml.QubitUnitary(U_ex(param[4]), wires=[1,2])\n",
    "    qml.QubitUnitary(U_ex(param[5]), wires=[3,4])\n",
    "    #\n",
    "    qml.QubitUnitary(U_ex(param[6]), wires=[2,3])\n",
    "    qml.QubitUnitary(U_ex(param[7]), wires=[4,5])\n",
    "    #\n",
    "    qml.QubitUnitary(U_ex(param[8]), wires=[1,2])\n",
    "    qml.QubitUnitary(U_ex(param[9]), wires=[3,4])\n",
    "    #\n",
    "    qml.QubitUnitary(U_ex(param[10]), wires=[2,3])\n",
    "    qml.QubitUnitary(U_ex(param[11]), wires=[4,5])\n",
    "    #\n",
    "    qml.QubitUnitary(U_ex(param[12]), wires=[1,2])\n",
    "    qml.QubitUnitary(U_ex(param[13]), wires=[3,4])\n",
    "    #\n",
    "    qml.QubitUnitary(U_ex(param[14]), wires=[2,3])\n",
    "    qml.QubitUnitary(U_ex(param[15]), wires=[4,5])\n",
    "    #\n",
    "    qml.QubitUnitary(U_ex(param[16]), wires=[3,4])\n",
    "    #\n",
    "    qml.QubitUnitary(U_ex(param[17]), wires=[2,3])\n",
    "    qml.QubitUnitary(U_ex(1-p2), wires=[4,5])\n",
    "    #\n",
    "    qml.QubitUnitary(U_ex(-p1), wires=[3,4])\n",
    "\n"
   ]
  },
  {
   "cell_type": "code",
   "execution_count": 35,
   "metadata": {
    "tags": []
   },
   "outputs": [],
   "source": [
    "def func_target(param):\n",
    "    solved_U_cnot_matrix = qml.matrix(variableCNOTCircuit)(param)\n",
    "    return target_function(np.kron(I,solved_U_cnot_matrix))"
   ]
  },
  {
   "cell_type": "code",
   "execution_count": 40,
   "metadata": {
    "tags": []
   },
   "outputs": [],
   "source": [
    "import random\n",
    "\n",
    "def fill_array_with_random_values(size):\n",
    "    random_values = [random.uniform(-1, 1) for _ in range(size)]\n",
    "    return random_values\n",
    "array_size = 18\n",
    "param = fill_array_with_random_values(array_size)"
   ]
  },
  {
   "cell_type": "code",
   "execution_count": 41,
   "metadata": {
    "tags": []
   },
   "outputs": [],
   "source": [
    "from scipy import optimize\n",
    "bounds = optimize.Bounds(-1.0,1.0)\n",
    "p_vals = optimize.minimize(func_target, param,method='L-BFGS-B',tol = 1e-5, bounds = bounds)"
   ]
  },
  {
   "cell_type": "code",
   "execution_count": 42,
   "metadata": {
    "jupyter": {
     "source_hidden": true
    },
    "tags": []
   },
   "outputs": [
    {
     "data": {
      "text/plain": [
       "array([-0.86394187,  1.        , -0.43826463, -0.299874  ,  0.08194724,\n",
       "       -0.56093927, -0.6065316 , -1.        ,  1.        , -0.61456763,\n",
       "       -0.91213267, -0.08056807,  0.5455069 ,  0.45206125,  0.3048947 ,\n",
       "       -0.76530422, -0.43708586,  0.33315151])"
      ]
     },
     "execution_count": 42,
     "metadata": {},
     "output_type": "execute_result"
    }
   ],
   "source": [
    "p_vals.x"
   ]
  },
  {
   "cell_type": "code",
   "execution_count": 43,
   "metadata": {
    "tags": []
   },
   "outputs": [
    {
     "name": "stdout",
     "output_type": "stream",
     "text": [
      "for state1, we get |<expected_state|U_cnot|state1>|^2 = 0.051700861274214846\t\t\t(should be = 1)\n",
      "for state2, we get |<expected_state|U_cnot|state2>|^2 = 0.026899063527505963\t\t\t(should be = 1)\n",
      "for state3, we get |<expected_state|U_cnot|state3>|^2 = 0.04525200500795799\t\t\t(should be = 1)\n",
      "for state4, we get |<expected_state|U_cnot|state4>|^2 = 0.1306062420778541\t\t\t(should be = 1)\n",
      "for state5, we get |<expected_state|U_cnot|state5>|^2 = 0.08600562141106033\t\t\t(should be = 1)\n",
      "If fixed matrix going into f_cnot = 0, then perfect! However, we get = 0.3722738226470272\n"
     ]
    }
   ],
   "source": [
    "optimised_params = p_vals.x\n",
    "\n",
    "@qml.qnode(dev)\n",
    "def quantum_model(state_):\n",
    "    qml.AmplitudeEmbedding(state_, wires=range(6))\n",
    "    variableCNOTCircuit(optimised_params)\n",
    "    return qml.state()\n",
    "\n",
    "def target_function(U_prime):\n",
    "    # approximated function\n",
    "    return f_CNOT(U_prime)\n",
    "\n",
    "\n",
    "\n",
    "for i, state in enumerate(states): ############################# TODO: I think this needs to be fixed because it's outputting the wrong shit <<<<<<<<<<<<<<<<<<<-------------------------\n",
    "    newstate = quantum_model(state)\n",
    "    dot_val = np.dot(np.conjugate(np.transpose(newstate)), expectedStates[i])\n",
    "    dot_sqrd = dot_val*np.conjugate(dot_val)\n",
    "    print(f'for state{i+1}, we get |<expected_state|U_cnot|state{i+1}>|^2 = {np.real(dot_sqrd)}\\t\\t\\t(should be = 1)')\n",
    "\n",
    "op = qml.prod(variableCNOTCircuit)(optimised_params) # finds the product for of these matrices\n",
    "solved_U_cnot_matrix = qml.matrix(op)\n",
    "print(f'If fixed matrix going into f_cnot = 0, then perfect! However, we get = {target_function(np.kron(I,solved_U_cnot_matrix))}')"
   ]
  },
  {
   "cell_type": "code",
   "execution_count": 13,
   "metadata": {
    "tags": []
   },
   "outputs": [
    {
     "name": "stderr",
     "output_type": "stream",
     "text": [
      "C:\\Users\\maxaa\\anaconda3\\Lib\\site-packages\\pennylane\\_grad.py:112: UserWarning: Attempted to differentiate a function with no trainable parameters. If this is unintended, please add trainable parameters via the 'requires_grad' attribute or 'argnum' keyword.\n",
      "  warnings.warn(\n"
     ]
    },
    {
     "name": "stdout",
     "output_type": "stream",
     "text": [
      "Step = 0,  Cost function = 0.83588464 \n",
      "Step = 10,  Cost function = 0.83588464 \n",
      "Step = 20,  Cost function = 0.83588464 \n",
      "Step = 30,  Cost function = 0.83588464 \n",
      "Step = 40,  Cost function = 0.83588464 \n",
      "Step = 50,  Cost function = 0.83588464 \n",
      "Step = 60,  Cost function = 0.83588464 \n",
      "Step = 70,  Cost function = 0.83588464 \n",
      "Step = 80,  Cost function = 0.83588464 \n",
      "Step = 90,  Cost function = 0.83588464 \n",
      "\n",
      "Final value of the cost function = 0.83588464 \n"
     ]
    }
   ],
   "source": [
    "p_vals = [param]\n",
    "cost = [func_target(param)] \n",
    "opt = qml.AdagradOptimizer()\n",
    "max_iterations = 100 \n",
    "conv_tol = 0.1 \n",
    "\n",
    "for n in range(max_iterations):\n",
    "    param, prev_cost = opt.step_and_cost(func_target, param) # need to fix the cost function not optimising for fnot\n",
    "    cost.append(func_target(param))\n",
    "    p_vals.append(param)\n",
    "\n",
    "    conv = np.abs(cost[-1] - prev_cost)\n",
    "    if n % 10 == 0:\n",
    "        print(f\"Step = {n},  Cost function = {cost[-1]:.8f} \")\n",
    "    if conv >= conv_tol:\n",
    "        break\n",
    "\n",
    "print(\"\\n\" f\"Final value of the cost function = {cost[-1]:.8f} \")"
   ]
  },
  {
   "cell_type": "code",
   "execution_count": null,
   "metadata": {},
   "outputs": [],
   "source": []
  }
 ],
 "metadata": {
  "kernelspec": {
   "display_name": "Python 3 (ipykernel)",
   "language": "python",
   "name": "python3"
  },
  "language_info": {
   "codemirror_mode": {
    "name": "ipython",
    "version": 3
   },
   "file_extension": ".py",
   "mimetype": "text/x-python",
   "name": "python",
   "nbconvert_exporter": "python",
   "pygments_lexer": "ipython3",
   "version": "3.10.13"
  }
 },
 "nbformat": 4,
 "nbformat_minor": 4
}
