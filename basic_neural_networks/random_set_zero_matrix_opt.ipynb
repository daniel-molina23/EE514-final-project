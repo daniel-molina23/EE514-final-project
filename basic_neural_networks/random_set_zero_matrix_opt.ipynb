{
 "cells": [
  {
   "cell_type": "markdown",
   "metadata": {},
   "source": [
    "## Making the trianable ansatz"
   ]
  },
  {
   "cell_type": "code",
   "execution_count": 1,
   "metadata": {
    "tags": []
   },
   "outputs": [],
   "source": [
    "import numpy as np"
   ]
  },
  {
   "cell_type": "code",
   "execution_count": 2,
   "metadata": {
    "tags": []
   },
   "outputs": [],
   "source": [
    "def nestedKronecker(args): # use \"*args\" to access an array of inputs\n",
    "    assert len(args) >= 2\n",
    "    temp = args[0]\n",
    "    for arg in args[1:]:\n",
    "        temp = np.kron(temp, arg)\n",
    "    return temp\n",
    "\n",
    "basis = {0: [1,0], 1: [0,1], '0': [1,0], '1': [0,1]}\n",
    "\n",
    "basisVector = lambda binstr : nestedKronecker([basis[x] for x in binstr])\n",
    "\n",
    "# common states\n",
    "zero, one = basis['0'], basis['1']\n",
    "tplus = basisVector('11')\n",
    "tminus = basisVector('00')\n",
    "tzero = (1/np.sqrt(2))*(basisVector('01') + basisVector('10'))\n",
    "singlet = np.sqrt(1/2)*(basisVector('01') - basisVector('10'))\n",
    "\n",
    "\n",
    "# ------------------------ FOR STATE 1 ------------------------\n",
    "\n",
    "state1 = np.kron(np.kron(singlet, singlet), singlet)\n",
    "\n",
    "# ------------------------ FOR STATE 2 ------------------------\n",
    "\n",
    "largePyramid = np.sqrt(1/3)*(np.kron(tplus,tminus)+np.kron(tminus,tplus)-np.kron(tzero,tzero))\n",
    "state2 = np.kron(singlet,largePyramid)\n",
    "\n",
    "# ------------------------ FOR STATE 3 ------------------------\n",
    "\n",
    "state3 = np.kron(largePyramid,singlet)\n",
    "\n",
    "# ------------------------ FOR STATE 4 ------------------------\n",
    "\n",
    "# for psi0 and psi1 we are combining j1=1 and j2=1/2 (this is combinind the first peak and trough)\n",
    "# J = 1/2, M = -1/2\n",
    "psi0 = np.sqrt(1/3)*np.kron(tzero, zero) - np.sqrt(2/3)*np.kron(tminus, one)\n",
    "# J = 1/2, M = +1/2\n",
    "psi1 = np.sqrt(2/3)*np.kron(tplus, zero) - np.sqrt(1/3)*np.kron(tzero, one)\n",
    "\n",
    "\n",
    "# for phiminus, phizero, phiplus, we are are combining j1=1/2 and j2=1/2\n",
    "# J = 1, M = -1\n",
    "phiminus = np.kron(psi0,zero)\n",
    "# J = 1, M = 0\n",
    "phizero = np.sqrt(1/2)*(np.kron(psi1,zero) + np.kron(psi0,one))\n",
    "# J = 1, M = +1\n",
    "phiplus = np.kron(psi1,one)\n",
    "\n",
    "# J=0,M=0 and j1=1,j2=1\n",
    "state4 = np.sqrt(1/3)*(np.kron(phiplus, tminus) - np.kron(phizero, tzero) + np.kron(phiminus, tplus))\n",
    "\n",
    "# ------------------------ FOR STATE 5 ------------------------\n",
    "\n",
    "eta_minus3 = np.kron(tminus, basis['0'])\n",
    "eta_minus1 = np.sqrt(2/3)*np.kron(tzero,zero) + np.sqrt(1/3)*np.kron(tminus,one)\n",
    "eta_plus1 = np.sqrt(1/3)*np.kron(tplus,zero) + np.sqrt(2/3)*np.kron(tzero, one)\n",
    "eta_plus3 = np.kron(tplus,one)\n",
    "\n",
    "gamma_minus = np.sqrt(1/4)*np.kron(eta_minus1, zero) - np.sqrt(3/4)*np.kron(eta_minus3, one)\n",
    "gamma_zero = np.sqrt(1/2)*np.kron(eta_plus1, zero) - np.sqrt(1/2)*np.kron(eta_minus1,one)\n",
    "gamma_plus = np.sqrt(3/4)*np.kron(eta_plus3, zero) - np.sqrt(1/4)*np.kron(eta_plus1, one)\n",
    "\n",
    "state5 = np.sqrt(1/3)*(np.kron(gamma_plus,tminus) - np.kron(gamma_zero, tzero) - np.kron(gamma_minus, tplus))\n",
    "\n",
    "inputStates = np.array([state1, state2, state3, state4])\n",
    "expectedStates = np.array([state1, state2, state4, state3])"
   ]
  },
  {
   "cell_type": "markdown",
   "metadata": {},
   "source": [
    "# Trying ChatPGT"
   ]
  },
  {
   "cell_type": "code",
   "execution_count": 67,
   "metadata": {
    "tags": []
   },
   "outputs": [
    {
     "name": "stdout",
     "output_type": "stream",
     "text": [
      "[[ 1.15115758  0.64894976 -2.7497892  -1.56514938 -0.3248914 ]\n",
      " [ 2.74246052  0.         -1.04444073 -0.43276333 -1.79710542]\n",
      " [-1.4378175   0.39262192  2.30767816  0.          0.36155878]\n",
      " [-3.00532631  1.71912356 -0.         -1.490466    1.19882376]\n",
      " [ 2.36881599 -0.         -2.73885275  0.         -0.01882193]]\n",
      "[[ 2.02476993e+00 -1.39165575e+00 -2.24084724e+00  8.23960319e-09\n",
      "  -9.25868544e-01]\n",
      " [ 3.23124800e+00  0.00000000e+00 -1.37774309e+00  6.40500513e-09\n",
      "  -2.86396239e+00]\n",
      " [-9.49025806e-01 -2.37852617e+00  2.28364398e+00  0.00000000e+00\n",
      "  -1.27453800e+00]\n",
      " [-3.00532672e+00  3.69304453e+00  0.00000000e+00  2.34217013e-09\n",
      "   1.73770713e+00]\n",
      " [ 2.36881642e+00  0.00000000e+00 -2.73885174e+00  0.00000000e+00\n",
      "  -1.64839381e+00]]\n",
      "Optimized Matrix:\n",
      "[[ 0.20544562+0.97866853j  0.        +0.j          0.        +0.j\n",
      "  ...  0.        +0.j          0.        +0.j\n",
      "   0.        +0.j        ]\n",
      " [ 0.        +0.j         -0.3328996 -0.1440384j  -0.17823361+0.41220946j\n",
      "  ...  0.        +0.j          0.        +0.j\n",
      "   0.        +0.j        ]\n",
      " [ 0.        +0.j          0.14723041+0.17659914j  0.3018965 +0.73284707j\n",
      "  ...  0.        +0.j          0.        +0.j\n",
      "   0.        +0.j        ]\n",
      " ...\n",
      " [ 0.        +0.j          0.        +0.j          0.        +0.j\n",
      "  ...  0.3018965 +0.73284707j  0.14723041+0.17659914j\n",
      "   0.        +0.j        ]\n",
      " [ 0.        +0.j          0.        +0.j          0.        +0.j\n",
      "  ... -0.17823361+0.41220946j -0.3328996 -0.1440384j\n",
      "   0.        +0.j        ]\n",
      " [ 0.        +0.j          0.        +0.j          0.        +0.j\n",
      "  ...  0.        +0.j          0.        +0.j\n",
      "   0.20544562+0.97866853j]]\n",
      "fcnot loss = 6.322027276634104e-08\n"
     ]
    }
   ],
   "source": [
    "import numpy as np\n",
    "from scipy.optimize import minimize\n",
    "import pennylane as qml\n",
    "\n",
    "I = np.eye(2)\n",
    "n_qubits = 6\n",
    "size_of_vec = 2**n_qubits\n",
    "num_layers = 5\n",
    "inputStates = np.array([state1, state2, state3, state4])\n",
    "expectedStates = np.array([state1, state2, state4, state3])\n",
    "prcnt_drop = 17\n",
    "\n",
    "\n",
    "Udot = lambda s1, U, s2 : np.dot(np.conjugate(np.transpose(s1)),np.matmul(U,s2))\n",
    "\n",
    "def nestedKron(*args): # use \"*args\" to access an array of inputs\n",
    "    assert len(args) >= 2\n",
    "    temp = args[0]\n",
    "    for arg in args[1:]:\n",
    "        temp = np.kron(temp, arg)\n",
    "    return temp\n",
    "\n",
    "def get_random_weights(num_layers,prcnt_drop):\n",
    "    percent_to_zero = prcnt_drop\n",
    "    random_array = np.random.rand(5, num_layers)\n",
    "    random_array = 2 * np.pi * random_array - np.pi\n",
    "    mask = np.random.choice([0, 1], size=(5, num_layers), p=[percent_to_zero / 100, (100 - percent_to_zero) / 100])\n",
    "    return random_array * mask\n",
    "\n",
    "def U_ex(p):\n",
    "    from scipy.linalg import expm\n",
    "    X = [[0,1],[1,0]]\n",
    "    Y = np.array([[0,-1j],[1j,0]], dtype=np.complex128)\n",
    "    Z = [[1,0],[0,-1]]\n",
    "\n",
    "    H_ex = (1/4)*(np.kron(X,X) + np.kron(Y,Y) + np.kron(Z,Z))\n",
    "    # print(f'H_ex.type = {type(H_ex)}')\n",
    "    U_exchange = expm(-1j*p*H_ex) # p is now -pi to pi\n",
    "    return np.array(U_exchange)\n",
    "\n",
    "def single_layer_U(layer_weights):\n",
    "    \"\"\"Trainable circuit block.\"\"\"\n",
    "    firstPart = nestedKron(U_ex(layer_weights[0]), U_ex(layer_weights[1]), U_ex(layer_weights[2]))\n",
    "    secondPart = nestedKron(I, U_ex(layer_weights[3]), U_ex(layer_weights[4]), I)\n",
    "    return np.matmul(secondPart, firstPart)\n",
    "\n",
    "def get_matrix(weights):\n",
    "    totalMatrix = np.eye(size_of_vec)\n",
    "    for layer_weights in weights:\n",
    "        mat = single_layer_U(layer_weights)\n",
    "        totalMatrix = np.matmul(totalMatrix, mat)\n",
    "    return totalMatrix\n",
    "\n",
    "def square_loss(y_true, y_pred):\n",
    "    loss = 0\n",
    "    for i in range(len(expectedStates)):\n",
    "        # c = np.dot(np.conjugate(expectedStates[i]), predictedStates[i])\n",
    "        # c_2 = self.amp_sqrd(c)\n",
    "        fidelity = qml.math.fidelity_statevector(y_true[i], y_pred[i])\n",
    "        loss += (1 - fidelity) ** 2\n",
    "    loss /= len(expectedStates)\n",
    "    return 0.5*loss\n",
    "\n",
    "\n",
    "def f_cnot_loss(y_true, y_pred):\n",
    "    loss = 0\n",
    "    for i in range(len(expectedStates)):\n",
    "        fidelity = qml.math.fidelity_statevector(y_true[i], y_pred[i])\n",
    "        loss += fidelity\n",
    "    return np.sqrt(1 - (1/4)*abs(loss))\n",
    "\n",
    "# Define the correct operations you want the matrix to perform on basis vectors\n",
    "def target_operations(non_zero_parameters, inputStates, A):\n",
    "    param = np.zeros_like(A.flatten())\n",
    "    param[A.flatten() != 0] = non_zero_parameters\n",
    "    parameters = np.reshape(param, (num_layers, 5))\n",
    "    matrix = get_matrix(parameters)\n",
    "    # Perform matrix multiplication with basis vectors\n",
    "    results = []\n",
    "    for i in range(len(inputStates)):\n",
    "        results.append(np.matmul(matrix, inputStates[i]))\n",
    "\n",
    "    # Define the target operations you want (modify this based on your specific task)\n",
    "    target_result = np.array(expectedStates)\n",
    "\n",
    "    # Calculate the loss as the difference between the obtained result and the target result\n",
    "    loss = f_cnot_loss(target_result,results)#square_loss(target_result, results)\n",
    "    return loss\n",
    "\n",
    "# Example: Set the number of basis vectors and their dimensionality\n",
    "num_vectors = 4\n",
    "vector_dimension = size_of_vec\n",
    "\n",
    "# Generate random basis vectors and target result\n",
    "basis_vectors = np.array(inputStates)\n",
    "target_result = np.array(expectedStates)\n",
    "\n",
    "# Flatten the matrix parameters for optimization\n",
    "initial_parameters = get_random_weights(num_layers,prcnt_drop)\n",
    "non_zero_parameters = initial_parameters.flatten()[initial_parameters.flatten() != 0]\n",
    "print(initial_parameters)\n",
    "# Use scipy's minimize function to optimize the parameters\n",
    "result = minimize(target_operations,non_zero_parameters, args=(basis_vectors,initial_parameters,), method='L-BFGS-B')\n",
    "#print(result.x)\n",
    "# Reshape the optimized parameters back into the matrix form\n",
    "param = np.zeros_like(initial_parameters.flatten())\n",
    "param[initial_parameters.flatten() != 0] = result.x\n",
    "optimized_results = np.reshape(param, (num_layers, 5))\n",
    "print(optimized_results)\n",
    "optimized_matrix = get_matrix(optimized_results)\n",
    "\n",
    "print(\"Optimized Matrix:\")\n",
    "#for i in optimized_matrix:\n",
    "#    print(i)\n",
    "print(optimized_matrix)\n",
    "\n",
    "predStates = [np.matmul(optimized_matrix, mat) for mat in inputStates]\n",
    "print(f\"fcnot loss = {f_cnot_loss(expectedStates, predStates)}\")\n",
    "#print(f\"square loss = {square_loss(expectedStates, predStates)}\")\n"
   ]
  },
  {
   "cell_type": "code",
   "execution_count": null,
   "metadata": {},
   "outputs": [],
   "source": []
  },
  {
   "cell_type": "code",
   "execution_count": null,
   "metadata": {},
   "outputs": [],
   "source": []
  },
  {
   "cell_type": "code",
   "execution_count": null,
   "metadata": {},
   "outputs": [],
   "source": []
  },
  {
   "cell_type": "code",
   "execution_count": null,
   "metadata": {},
   "outputs": [],
   "source": []
  },
  {
   "cell_type": "code",
   "execution_count": null,
   "metadata": {},
   "outputs": [],
   "source": []
  },
  {
   "cell_type": "code",
   "execution_count": null,
   "metadata": {},
   "outputs": [],
   "source": []
  },
  {
   "cell_type": "code",
   "execution_count": null,
   "metadata": {},
   "outputs": [],
   "source": []
  },
  {
   "cell_type": "code",
   "execution_count": null,
   "metadata": {},
   "outputs": [],
   "source": []
  },
  {
   "cell_type": "code",
   "execution_count": null,
   "metadata": {},
   "outputs": [],
   "source": []
  },
  {
   "cell_type": "code",
   "execution_count": null,
   "metadata": {},
   "outputs": [],
   "source": []
  },
  {
   "cell_type": "code",
   "execution_count": null,
   "metadata": {},
   "outputs": [],
   "source": []
  },
  {
   "cell_type": "code",
   "execution_count": 5,
   "metadata": {
    "tags": []
   },
   "outputs": [
    {
     "name": "stdout",
     "output_type": "stream",
     "text": [
      "loss from the pennylane qml model is = 0.27960364502846224\n"
     ]
    }
   ],
   "source": [
    "from QNN import Ansatz\n",
    "ansatz = Ansatz(num_layers=num_layers)\n",
    "ansatz.weights = result.x.reshape((num_layers, 5))\n",
    "predStates = ansatz.get_predictions(ansatz.weights, inputStates)\n",
    "loss = ansatz.square_loss(expectedStates, predStates)\n",
    "\n",
    "print(f'loss from the pennylane qml model is = {loss}')\n"
   ]
  },
  {
   "cell_type": "code",
   "execution_count": null,
   "metadata": {},
   "outputs": [],
   "source": []
  }
 ],
 "metadata": {
  "kernelspec": {
   "display_name": "Python 3 (ipykernel)",
   "language": "python",
   "name": "python3"
  },
  "language_info": {
   "codemirror_mode": {
    "name": "ipython",
    "version": 3
   },
   "file_extension": ".py",
   "mimetype": "text/x-python",
   "name": "python",
   "nbconvert_exporter": "python",
   "pygments_lexer": "ipython3",
   "version": "3.11.4"
  }
 },
 "nbformat": 4,
 "nbformat_minor": 4
}
